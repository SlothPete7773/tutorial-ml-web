{
 "cells": [
  {
   "cell_type": "code",
   "execution_count": 14,
   "metadata": {},
   "outputs": [],
   "source": [
    "import pandas as pd\n",
    "import numpy as np\n",
    "import matplotlib.pyplot as plt\n",
    "\n"
   ]
  },
  {
   "cell_type": "code",
   "execution_count": 4,
   "metadata": {},
   "outputs": [
    {
     "data": {
      "text/html": [
       "<div>\n",
       "<style scoped>\n",
       "    .dataframe tbody tr th:only-of-type {\n",
       "        vertical-align: middle;\n",
       "    }\n",
       "\n",
       "    .dataframe tbody tr th {\n",
       "        vertical-align: top;\n",
       "    }\n",
       "\n",
       "    .dataframe thead th {\n",
       "        text-align: right;\n",
       "    }\n",
       "</style>\n",
       "<table border=\"1\" class=\"dataframe\">\n",
       "  <thead>\n",
       "    <tr style=\"text-align: right;\">\n",
       "      <th></th>\n",
       "      <th>text</th>\n",
       "      <th>sentiment</th>\n",
       "    </tr>\n",
       "  </thead>\n",
       "  <tbody>\n",
       "    <tr>\n",
       "      <th>1</th>\n",
       "      <td>ที่ ส.ส แบบนี้มันยังอยู่ได้ เพราะมันก็มีคนยังเ...</td>\n",
       "      <td>anger</td>\n",
       "    </tr>\n",
       "    <tr>\n",
       "      <th>4</th>\n",
       "      <td>แล้วโกรธอะไรเสี่ยวถิงน้องทำไรให้? มาบอกว่าน้อง...</td>\n",
       "      <td>anger</td>\n",
       "    </tr>\n",
       "    <tr>\n",
       "      <th>5</th>\n",
       "      <td>ไม่เอาลูกมันก็โกรธ พาลโกรธเพื่อนเราที่เข้ามาช่...</td>\n",
       "      <td>anger</td>\n",
       "    </tr>\n",
       "    <tr>\n",
       "      <th>7</th>\n",
       "      <td>กุโทรหาแม่ แต่แม่รับแล้วเอาโทรศัพท์ให้พ่อคุย ก...</td>\n",
       "      <td>anger</td>\n",
       "    </tr>\n",
       "    <tr>\n",
       "      <th>9</th>\n",
       "      <td>รีล่าคือ ไอ้เหี้ย กุเห้นแล้วโกรธ่ะโกรธ มึงนี่ม...</td>\n",
       "      <td>anger</td>\n",
       "    </tr>\n",
       "    <tr>\n",
       "      <th>...</th>\n",
       "      <td>...</td>\n",
       "      <td>...</td>\n",
       "    </tr>\n",
       "    <tr>\n",
       "      <th>1793</th>\n",
       "      <td>\"อุ้ย แบบเย็นชอบเหมือนกันเลยค่ะ...\" ดูประหลาดใ...</td>\n",
       "      <td>surprise</td>\n",
       "    </tr>\n",
       "    <tr>\n",
       "      <th>1795</th>\n",
       "      <td>ประหลาดใจนักที่ได้รับข้อความตอบกลับมา เผยรอยยิ...</td>\n",
       "      <td>surprise</td>\n",
       "    </tr>\n",
       "    <tr>\n",
       "      <th>1796</th>\n",
       "      <td>หนูไม่คิดว่าพี่จะเล่นมุกนี้ ประหลาดใจ….</td>\n",
       "      <td>surprise</td>\n",
       "    </tr>\n",
       "    <tr>\n",
       "      <th>1797</th>\n",
       "      <td>\"นี่นาย.!!\" ู้สึกประหลาดใจอย่างบอกไม่ถูก พอเห็...</td>\n",
       "      <td>surprise</td>\n",
       "    </tr>\n",
       "    <tr>\n",
       "      <th>1799</th>\n",
       "      <td>นับวันยิ่งมีเรื่องให้ประหลาดใจค่ะ เมืองไทยไม่ธ...</td>\n",
       "      <td>surprise</td>\n",
       "    </tr>\n",
       "  </tbody>\n",
       "</table>\n",
       "<p>1212 rows × 2 columns</p>\n",
       "</div>"
      ],
      "text/plain": [
       "                                                   text sentiment\n",
       "1     ที่ ส.ส แบบนี้มันยังอยู่ได้ เพราะมันก็มีคนยังเ...     anger\n",
       "4     แล้วโกรธอะไรเสี่ยวถิงน้องทำไรให้? มาบอกว่าน้อง...     anger\n",
       "5     ไม่เอาลูกมันก็โกรธ พาลโกรธเพื่อนเราที่เข้ามาช่...     anger\n",
       "7     กุโทรหาแม่ แต่แม่รับแล้วเอาโทรศัพท์ให้พ่อคุย ก...     anger\n",
       "9     รีล่าคือ ไอ้เหี้ย กุเห้นแล้วโกรธ่ะโกรธ มึงนี่ม...     anger\n",
       "...                                                 ...       ...\n",
       "1793  \"อุ้ย แบบเย็นชอบเหมือนกันเลยค่ะ...\" ดูประหลาดใ...  surprise\n",
       "1795  ประหลาดใจนักที่ได้รับข้อความตอบกลับมา เผยรอยยิ...  surprise\n",
       "1796            หนูไม่คิดว่าพี่จะเล่นมุกนี้ ประหลาดใจ….  surprise\n",
       "1797  \"นี่นาย.!!\" ู้สึกประหลาดใจอย่างบอกไม่ถูก พอเห็...  surprise\n",
       "1799  นับวันยิ่งมีเรื่องให้ประหลาดใจค่ะ เมืองไทยไม่ธ...  surprise\n",
       "\n",
       "[1212 rows x 2 columns]"
      ]
     },
     "execution_count": 4,
     "metadata": {},
     "output_type": "execute_result"
    }
   ],
   "source": [
    "# Import dataset\n",
    "df_sentiment = pd.read_csv('./data/emotion1_1.csv')\n",
    "\n",
    "df_sentiment = df_sentiment[df_sentiment['sentiment'] != 'unclassifiable']\n",
    "df_sentiment\n"
   ]
  },
  {
   "cell_type": "markdown",
   "metadata": {},
   "source": [
    "# Labelling"
   ]
  },
  {
   "cell_type": "code",
   "execution_count": 7,
   "metadata": {},
   "outputs": [],
   "source": [
    "encoding = {\n",
    "    'anger': 0,\n",
    "    'disgust': 1,\n",
    "    'fear': 2,\n",
    "    'joy': 3,\n",
    "    'sadness': 4,\n",
    "    'surprise': 5,\n",
    "}\n",
    "\n",
    "y_sentiment_encoded = [encoding[sentiment] for sentiment in df_sentiment['sentiment'].values if sentiment != 'unclassifiable']"
   ]
  },
  {
   "cell_type": "code",
   "execution_count": 8,
   "metadata": {},
   "outputs": [
    {
     "name": "stdout",
     "output_type": "stream",
     "text": [
      "['ที่ ส.ส แบบนี้มันยังอยู่ได้ เพราะมันก็มีคนยังเลือก ประเภทด่าตอนเขาหายหัว แล้วดีใจตอนเขาให้เงิน ลืมสิ้นความโกรธทุกอย่าง ต้องหยุดวงจรอุบาทว์นี่ คือเจ็บแล้วต้องจำ ไม่รับเงิน ไม่ใช่อ้างว่าคนเราต้องกินต้องใช้ มันถึงวนเป็นลูปงี้ไม่จบสิ้น'\n",
      " 'แล้วโกรธอะไรเสี่ยวถิงน้องทำไรให้? มาบอกว่าน้องเป็นเด็กล็อก พูดงี้มันทำให้น้องเสียหาย ถ้าโกรธเพราะได้ซีนเยอะ ทำไมไม่โกรธคนตัดต่อเอ็มเน็ต ถ้าอีพีถัดๆไปก็รอดูว่าถ้าได้ซีนแกง ยังจะมาพูดว่าล็อกอีก ไหม อย่างน้อยก็น่าจะเห็นความสามารถน้องบ้าง แต่คงไม่เห็นหรอก อคติบังตา'\n",
      " 'ไม่เอาลูกมันก็โกรธ พาลโกรธเพื่อนเราที่เข้ามาช่วยอีกูกน้องระยำรังควานชาวบ้านไปทั่วก็ไม่รู้จักจัดการ พอเขาดำเนินการตามกฎหมายกับลูกน้องมันจนมันซัดทอด มันก็พาลโกรธพวกเขาอีกุป ปัญหามันอยู่ที่ใครก็เห็นๆกันอยู่่ยอมรับความจริงแล้วยังออกแผนระยำรังควานเข่นฆ่าคนอื่นไม่หยุดอีก'\n",
      " ... 'หนูไม่คิดว่าพี่จะเล่นมุกนี้ ประหลาดใจ….'\n",
      " '\"นี่นาย.!!\" ู้สึกประหลาดใจอย่างบอกไม่ถูก พอเห็นของที่ชอบก็ทำให้หายเหนื่อยขึ้นมาทันที ังไม่เคยบอกเลย ไปรู้มาจากไหนเนี่ย? \\\\ \"อะแฮ่ม!! ฉันไม่ได้บอกว่าอยากได้สักหน่อย\" \"แต่นายซื้อมาแล้วจะขอรับไว้แล้วกันนะ \"'\n",
      " 'นับวันยิ่งมีเรื่องให้ประหลาดใจค่ะ เมืองไทยไม่ธรรมดา ผีเข้าพระได้ด้วยยย5']\n",
      "[0 0 0 ... 5 5 5]\n",
      "(1212,)\n",
      "(1212,)\n"
     ]
    }
   ],
   "source": [
    "X = df_sentiment['text'].values\n",
    "y = np.array(y_sentiment_encoded)\n",
    "print(X)\n",
    "print(y)\n",
    "print(X.shape)\n",
    "print(y.shape)\n"
   ]
  },
  {
   "cell_type": "markdown",
   "metadata": {},
   "source": [
    "# Train test splitting"
   ]
  },
  {
   "cell_type": "code",
   "execution_count": 9,
   "metadata": {},
   "outputs": [],
   "source": [
    "from sklearn.model_selection import train_test_split\n",
    "\n",
    "X_train, X_test, y_train, y_test = train_test_split(X, y, test_size=0.2, random_state=42, stratify=y)"
   ]
  },
  {
   "cell_type": "code",
   "execution_count": 13,
   "metadata": {},
   "outputs": [
    {
     "name": "stdout",
     "output_type": "stream",
     "text": [
      "Counter({3: 193, 5: 183, 2: 171, 0: 149, 4: 145, 1: 128})\n",
      "Counter({3: 48, 5: 46, 2: 43, 0: 37, 4: 37, 1: 32})\n"
     ]
    }
   ],
   "source": [
    "from collections import Counter\n",
    "print(Counter(y_train))\n",
    "print(Counter(y_test))"
   ]
  },
  {
   "cell_type": "markdown",
   "metadata": {},
   "source": [
    "# Thai word tokenizer"
   ]
  },
  {
   "cell_type": "code",
   "execution_count": 15,
   "metadata": {},
   "outputs": [
    {
     "name": "stdout",
     "output_type": "stream",
     "text": [
      "['เห็น', 'แล้ว', 'โกรธ', 'นะ']\n"
     ]
    }
   ],
   "source": [
    "from pythainlp.tokenize import word_tokenize\n",
    "\n",
    "test = X_train[1]\n",
    "print(word_tokenize(test))"
   ]
  },
  {
   "cell_type": "markdown",
   "metadata": {},
   "source": [
    "# Extracting Features from train and test dataset"
   ]
  },
  {
   "cell_type": "markdown",
   "metadata": {},
   "source": [
    "## Create TF-IDF Vector"
   ]
  },
  {
   "cell_type": "code",
   "execution_count": 23,
   "metadata": {},
   "outputs": [],
   "source": [
    "from sklearn.feature_extraction.text import TfidfVectorizer\n",
    "\n",
    "tfidf_vectorizer = TfidfVectorizer(tokenizer=word_tokenize, ngram_range=(1, 1))\n",
    "text_train = tfidf_vectorizer.fit_transform(X_train.astype('U'))\n",
    "text_test = tfidf_vectorizer.transform(X_test)"
   ]
  },
  {
   "cell_type": "markdown",
   "metadata": {},
   "source": [
    "# Logistic Regression"
   ]
  },
  {
   "cell_type": "code",
   "execution_count": 24,
   "metadata": {},
   "outputs": [
    {
     "data": {
      "text/plain": [
       "LogisticRegression(random_state=42, solver='liblinear')"
      ]
     },
     "execution_count": 24,
     "metadata": {},
     "output_type": "execute_result"
    }
   ],
   "source": [
    "import time\n",
    "from sklearn.linear_model import LogisticRegression\n",
    "\n",
    "# Run classfifier\n",
    "logistic_regressor = LogisticRegression(solver=\"liblinear\", random_state=42)\n",
    "## Set timer\n",
    "# t0 = time.time()\n",
    "logistic_regressor.fit(text_train, y_train)\n",
    "# print(\"Training time: {} sec\".format(round(time.time()-t0, 3)))"
   ]
  },
  {
   "cell_type": "markdown",
   "metadata": {},
   "source": [
    "# Save model to local"
   ]
  },
  {
   "cell_type": "code",
   "execution_count": 25,
   "metadata": {},
   "outputs": [
    {
     "data": {
      "text/plain": [
       "['tfidf.joblib']"
      ]
     },
     "execution_count": 25,
     "metadata": {},
     "output_type": "execute_result"
    }
   ],
   "source": [
    "from joblib import load, dump\n",
    "\n",
    "dump(logistic_regressor, \"model.joblib\")\n",
    "dump(tfidf_vectorizer, \"tfidf.joblib\")"
   ]
  },
  {
   "cell_type": "code",
   "execution_count": 26,
   "metadata": {},
   "outputs": [],
   "source": [
    "load_model = load(\"model.joblib\")\n",
    "load_transformer = load(\"tfidf.joblib\")"
   ]
  },
  {
   "cell_type": "code",
   "execution_count": 28,
   "metadata": {},
   "outputs": [
    {
     "data": {
      "text/plain": [
       "array([2])"
      ]
     },
     "execution_count": 28,
     "metadata": {},
     "output_type": "execute_result"
    }
   ],
   "source": [
    "tweet2 = \"มันน่ากลัวอะคุน เรานอนต่อไม่ได้\"\n",
    "\n",
    "test_feature = load_transformer.transform([tweet2])\n",
    "load_model.predict(test_feature)\n"
   ]
  },
  {
   "cell_type": "code",
   "execution_count": null,
   "metadata": {},
   "outputs": [],
   "source": []
  }
 ],
 "metadata": {
  "interpreter": {
   "hash": "b16ba49f00a764efd25c6a9ccef3109386136a98ab5d84a64d48b0067bb779cb"
  },
  "kernelspec": {
   "display_name": "Python 3.8.8 64-bit ('base': conda)",
   "language": "python",
   "name": "python3"
  },
  "language_info": {
   "codemirror_mode": {
    "name": "ipython",
    "version": 3
   },
   "file_extension": ".py",
   "mimetype": "text/x-python",
   "name": "python",
   "nbconvert_exporter": "python",
   "pygments_lexer": "ipython3",
   "version": "3.8.8"
  },
  "orig_nbformat": 4
 },
 "nbformat": 4,
 "nbformat_minor": 2
}
